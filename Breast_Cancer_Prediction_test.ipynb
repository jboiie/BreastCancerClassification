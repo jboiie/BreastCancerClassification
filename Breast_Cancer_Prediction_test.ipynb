{
 "cells": [
  {
   "cell_type": "markdown",
   "id": "aa2e7851",
   "metadata": {},
   "source": [
    "# Breast Cancer Prediction Project\n",
    "\n",
    "Welcome to the Breast Cancer Prediction project! "
   ]
  },
  {
   "cell_type": "markdown",
   "id": "eba2416b",
   "metadata": {},
   "source": [
    "## Objective\n",
    "\n",
    "Our goal is to build a machine learning model that can accurately predict whether a tumor is **malignant (M)** or **benign (B)** based on a set of measurements.\n",
    "\n",
    "We'll use the dataset `Cancer_Data.csv` "
   ]
  },
  {
   "cell_type": "code",
   "execution_count": null,
   "id": "998a8354",
   "metadata": {},
   "outputs": [],
   "source": [
    "import pandas as pd\n",
    "import numpy as np\n",
    "import matplotlib.pyplot as plt\n",
    "import seaborn as sns\n",
    "from sklearn.model_selection import train_test_split\n",
    "from sklearn.preprocessing import StandardScaler\n",
    "from sklearn.linear_model import LogisticRegression\n",
    "from sklearn.metrics import classification_report, confusion_matrix, accuracy_score"
   ]
  },
  {
   "cell_type": "markdown",
   "id": "db7225c4",
   "metadata": {},
   "source": [
    "##  Step 1: Load the Dataset"
   ]
  },
  {
   "cell_type": "code",
   "execution_count": null,
   "id": "50d54c34",
   "metadata": {},
   "outputs": [],
   "source": [
    "df = pd.read_csv('Cancer_data.csv')"
   ]
  },
  {
   "cell_type": "markdown",
   "id": "6560432a",
   "metadata": {},
   "source": [
    "this dataset is from breast cancer diagnosis records. it has data from `569` patients, where each row shows details from a test done on a tumor sample. the values include things like the `size`, `texture`, and `shape` of the cells.\n",
    "\n",
    "it has `30` features (all numbers) that describe the tumor\n",
    "\n",
    "there's one main column called diagnosis that tells whether the tumor was:\n",
    "\n",
    "`M` = malignant (cancerous)\n",
    "\n",
    "`B` = benign (non-cancerous)\n",
    "\n",
    "the main goal is to use this data to predict whether a tumor is benign or malignant."
   ]
  },
  {
   "cell_type": "markdown",
   "id": "5c06f4d3",
   "metadata": {},
   "source": [
    "##  Step 2: Explore the Dataset"
   ]
  },
  {
   "cell_type": "code",
   "execution_count": null,
   "id": "3f693b76",
   "metadata": {},
   "outputs": [],
   "source": [
    "print(\"shape: \", df.shape)\n",
    "\n",
    "print(\"\\n columns: \", df.columns.tolist())\n",
    "\n",
    "print(\"\\n Info:\")\n",
    "print(df.info())"
   ]
  },
  {
   "cell_type": "code",
   "execution_count": null,
   "id": "91695cf6",
   "metadata": {},
   "outputs": [],
   "source": [
    "print(\"\\n diagnosis values:\", df['diagnosis'].unique())\n",
    "\n",
    "df.describe()"
   ]
  },
  {
   "cell_type": "markdown",
   "id": "fab367e8",
   "metadata": {},
   "source": [
    "we found that the dataset has 569 rows and 33 columns, and the target column is `diagnosis` with values 'M' and 'B'. the `id` column is just an identifier and `Unnamed: 32` is completely empty."
   ]
  },
  {
   "cell_type": "markdown",
   "id": "0e60efda",
   "metadata": {},
   "source": [
    "##  Step 3: Clean the Data\n",
    "\n",
    "We'll remove any unnecessary columns and handle missing values.\n",
    "\n",
    "Drop the 'Unnamed: 32' column and 'id'"
   ]
  },
  {
   "cell_type": "code",
   "execution_count": null,
   "id": "3eac7e2f",
   "metadata": {},
   "outputs": [],
   "source": [
    "\n",
    "df = df.drop(columns=['id', 'Unnamed: 32'])\n",
    "\n",
    "print(df.shape)"
   ]
  },
  {
   "cell_type": "markdown",
   "id": "3d9a630b",
   "metadata": {},
   "source": [
    "Saved `Cancer_Data_Cleaned.csv` seperately, although since its a small dataset, we'll be cleaning it during runtime only"
   ]
  },
  {
   "cell_type": "markdown",
   "id": "bd6b80db",
   "metadata": {},
   "source": [
    "##  Step 4: Visualize the Data"
   ]
  },
  {
   "cell_type": "code",
   "execution_count": null,
   "id": "4fff8ff4",
   "metadata": {},
   "outputs": [],
   "source": [
    "import seaborn as sns\n",
    "import matplotlib.pyplot as plt\n",
    "sns.countplot(x='diagnosis', data=df)\n",
    "plt.title(\"Count of Diagnosis (M = Malignant, B = Benign)\")\n",
    "plt.show()"
   ]
  },
  {
   "cell_type": "markdown",
   "id": "2139b7a0",
   "metadata": {},
   "source": [
    "the correlation matrix can only work after the diagnosis is encoded into `numerical data`, so that has been done in the preprocessing section."
   ]
  },
  {
   "cell_type": "markdown",
   "id": "ac0de1dd",
   "metadata": {},
   "source": [
    "##  Step 5: Preprocess the Data"
   ]
  },
  {
   "cell_type": "code",
   "execution_count": null,
   "id": "18ecd4e8",
   "metadata": {},
   "outputs": [],
   "source": [
    "\n",
    "df['diagnosis'] = df['diagnosis'].map({'M' : 1, 'B' : 0})\n",
    "print(\"Encoded values in diagnosis:\", df['diagnosis'].unique())\n",
    "\n",
    "\n",
    "X = df.drop('diagnosis' , axis=1)\n",
    "Y = df['diagnosis']\n",
    "\n",
    "print(X.shape , Y.shape) #gives (569, 30) (569,) "
   ]
  },
  {
   "cell_type": "markdown",
   "id": "11f3f562",
   "metadata": {},
   "source": [
    "Convert diagnosis column to `0`(benign) and `1` (malignant). \\\n",
    "Split features and labels (x and y). \\\n",
    "gives `(569, 30) (569,)`"
   ]
  },
  {
   "cell_type": "code",
   "execution_count": null,
   "id": "6a3f3af2",
   "metadata": {},
   "outputs": [],
   "source": [
    "#corelation matrix\n",
    "corr = df.corr()\n",
    "plt.figure(figsize=(14, 12))\n",
    "sns.heatmap(corr, annot=False, cmap='coolwarm', linewidths=0.5)\n",
    "plt.title(\"Heatmap\")\n",
    "plt.show()"
   ]
  },
  {
   "cell_type": "code",
   "execution_count": null,
   "id": "24b9db56",
   "metadata": {},
   "outputs": [],
   "source": [
    "# Split into training and testing sets\n",
    "from sklearn.model_selection import train_test_split\n",
    "X_train, X_test, Y_train, Y_test = train_test_split(X,Y, test_size=0.2, random_state=42)\n",
    "\n",
    "print(\"X_train:\", X_train.shape)\n",
    "print(\"X_test:\", X_test.shape)\n",
    "print(\"Y_train:\", Y_train.shape)\n",
    "print(\"Y_test:\", Y_test.shape, \"\\n\")\n",
    "\n",
    "\n",
    "# Scale the features\n",
    "from sklearn.preprocessing import StandardScaler\n",
    "scaler = StandardScaler()\n",
    "X_train_scaled = scaler.fit_transform(X_train)\n",
    "X_test_scaled = scaler.transform(X_test)\n",
    "\n",
    "print(X_train_scaled.shape)\n",
    "\n",
    "# re-scale\n",
    "from sklearn.preprocessing import StandardScaler\n",
    "scaler = StandardScaler()\n",
    "X_train_scaled = scaler.fit_transform(X_train)\n",
    "X_test_scaled = scaler.transform(X_test)\n"
   ]
  },
  {
   "cell_type": "markdown",
   "id": "34eb7bef",
   "metadata": {},
   "source": [
    "`455` training samples and `114` testing samples: each with 30 features\n",
    "\n",
    "Scaling the features to be all set to train the model"
   ]
  },
  {
   "cell_type": "markdown",
   "id": "88856e04",
   "metadata": {},
   "source": [
    "##  Step 6: Train a Machine Learning Model"
   ]
  },
  {
   "cell_type": "code",
   "execution_count": null,
   "id": "687bea41",
   "metadata": {},
   "outputs": [],
   "source": [
    "\n",
    "import torch\n",
    "import torch.nn as nn\n",
    "import torch.optim as optim\n",
    "from sklearn.metrics import accuracy_score\n"
   ]
  },
  {
   "cell_type": "markdown",
   "id": "a7df0a13",
   "metadata": {},
   "source": [
    "Using `pytorch` since tensorflow isnt suppported on python 3.13"
   ]
  },
  {
   "cell_type": "code",
   "execution_count": null,
   "id": "97217791",
   "metadata": {},
   "outputs": [],
   "source": [
    "Y_train_tensor = torch.tensor(Y_train.values, dtype=torch.float32).view(-1, 1)\n",
    "Y_train_tensor = (Y_train_tensor >= 0.5).float()  # makes sure values are 0.0 or 1.0\n",
    "\n",
    "Y_test_tensor = torch.tensor(Y_test.values, dtype=torch.float32).view(-1, 1)\n",
    "Y_test_tensor = (Y_test_tensor >= 0.5).float()\n"
   ]
  },
  {
   "cell_type": "markdown",
   "id": "5263c19b",
   "metadata": {},
   "source": [
    "`Tensor Conversion` - This block converts the Y_train and Y_test labels into PyTorch float tensors and ensures values are either 0.0 or 1.0 (binary), which is required for binary classification with a sigmoid output."
   ]
  },
  {
   "cell_type": "code",
   "execution_count": null,
   "id": "9021d4d9",
   "metadata": {},
   "outputs": [],
   "source": [
    "#defining model\n",
    "class CancerNet(nn.Module):\n",
    "    def __init__(self):\n",
    "        super(CancerNet, self).__init__()\n",
    "        self.fc1 = nn.Linear(30, 16)   \n",
    "        self.fc2 = nn.Linear(16, 8)    \n",
    "        self.out = nn.Linear(8, 1)    \n",
    "        self.relu = nn.ReLU()\n",
    "        self.sigmoid = nn.Sigmoid()\n",
    "\n",
    "    def forward(self, x):\n",
    "        x = self.relu(self.fc1(x))\n",
    "        x = self.relu(self.fc2(x))\n",
    "        x = self.sigmoid(self.out(x))\n",
    "        return x\n",
    "model = CancerNet()\n"
   ]
  },
  {
   "cell_type": "markdown",
   "id": "4de8ce10",
   "metadata": {},
   "source": [
    "`Model Defining` - Defines a simple neural network called `CancerNet` using PyTorch. It has 3 fully connected layers with `ReLU` activations and a final `sigmoid` for binary output. This model predicts if the tumor is malignant or benign."
   ]
  },
  {
   "cell_type": "code",
   "execution_count": null,
   "id": "266f8746",
   "metadata": {},
   "outputs": [],
   "source": [
    "#defining loss function and optimizer\n",
    "criterion = nn.BCELoss()\n",
    "optimizer = optim.Adam(model.parameters(), lr=0.001)\n"
   ]
  },
  {
   "cell_type": "markdown",
   "id": "cf497987",
   "metadata": {},
   "source": [
    "`binary cross-entropy` - perfect for binary classification\n",
    "\n",
    "`Adam` - helps adjust weights based on loss"
   ]
  },
  {
   "cell_type": "code",
   "execution_count": null,
   "id": "4b27d26d",
   "metadata": {},
   "outputs": [],
   "source": [
    "# Training loop\n",
    "epochs = 100\n",
    "\n",
    "for epoch in range(epochs):\n",
    "    # Forward pass\n",
    "    outputs = model(X_train_tensor)\n",
    "    loss = criterion(outputs, Y_train_tensor)\n",
    "\n",
    "    # Backward pass and optimization\n",
    "    optimizer.zero_grad()\n",
    "    loss.backward()\n",
    "    optimizer.step()\n",
    "\n",
    "    # Print loss every 10 epochs\n",
    "    if (epoch + 1) % 10 == 0:\n",
    "        print(f\"Epoch [{epoch+1}/{epochs}], Loss: {loss.item():.4f}\")\n"
   ]
  },
  {
   "cell_type": "markdown",
   "id": "e2e44186",
   "metadata": {},
   "source": [
    "We can see the loss decreases every 10 epochs, thus we are assured the training is fine"
   ]
  },
  {
   "cell_type": "code",
   "execution_count": null,
   "id": "44ad311f",
   "metadata": {},
   "outputs": [],
   "source": [
    "# Using Logistic Regression\n",
    "from sklearn.linear_model import LogisticRegression\n",
    "\n",
    "log_reg = LogisticRegression(max_iter=1000)\n",
    "log_reg.fit(X_train_scaled, Y_train)\n",
    "\n",
    "log_preds = log_reg.predict(X_test_scaled)\n",
    "\n",
    "from sklearn.metrics import classification_report, confusion_matrix\n",
    "print(\"Logistic Regression Classification Report:\")\n",
    "print(classification_report(Y_test, log_preds))\n",
    "print(\"Confusion Matrix:\")\n",
    "print(confusion_matrix(Y_test, log_preds))\n"
   ]
  },
  {
   "cell_type": "markdown",
   "id": "a6126d77",
   "metadata": {},
   "source": [
    "Logistic regression performs well and balanced. it hits `97%` accuracy and confusion matrix is nearly perfect."
   ]
  },
  {
   "cell_type": "markdown",
   "id": "6aee720c",
   "metadata": {},
   "source": [
    "##  Step 7: Evaluate the Model"
   ]
  },
  {
   "cell_type": "code",
   "execution_count": null,
   "id": "cde65e51",
   "metadata": {},
   "outputs": [],
   "source": [
    "\n",
    "with torch.no_grad():\n",
    "    test_outputs = model(X_test_tensor)\n",
    "    predicted = (test_outputs >= 0.5).float()  \n",
    "# Accuracy\n",
    "accuracy = accuracy_score(Y_test_tensor, predicted)\n",
    "print(f\"Test Accuracy: {accuracy:.4f}\")\n"
   ]
  },
  {
   "cell_type": "code",
   "execution_count": 126,
   "id": "03329f57",
   "metadata": {},
   "outputs": [],
   "source": [
    "#saving the model\n",
    "torch.save(model.state_dict(), 'cancer_model.pth')\n"
   ]
  },
  {
   "cell_type": "markdown",
   "id": "0d708973",
   "metadata": {},
   "source": [
    "Since the dataset is small and clean, we have an achieved accuracy over `95%` on the test set."
   ]
  },
  {
   "cell_type": "markdown",
   "id": "95642ff9",
   "metadata": {},
   "source": [
    "## `Finally`\n",
    "Built a breast cancer classification model using `PyTorch` and `scikit-learn`. Achieved `96%` test accuracy with a neural network and `97%` with Logistic Regression on a well-processed medical dataset. Explored model benchmarking, data preprocessing, and evaluation"
   ]
  }
 ],
 "metadata": {
  "kernelspec": {
   "display_name": "Python 3",
   "language": "python",
   "name": "python3"
  },
  "language_info": {
   "codemirror_mode": {
    "name": "ipython",
    "version": 3
   },
   "file_extension": ".py",
   "mimetype": "text/x-python",
   "name": "python",
   "nbconvert_exporter": "python",
   "pygments_lexer": "ipython3",
   "version": "3.13.3"
  }
 },
 "nbformat": 4,
 "nbformat_minor": 5
}
